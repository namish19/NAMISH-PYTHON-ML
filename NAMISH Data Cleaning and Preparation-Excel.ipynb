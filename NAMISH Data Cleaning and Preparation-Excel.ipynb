{
 "cells": [
  {
   "cell_type": "code",
   "execution_count": 3,
   "id": "8b54073e",
   "metadata": {},
   "outputs": [
    {
     "name": "stdout",
     "output_type": "stream",
     "text": [
      "Original data:\n",
      "\n",
      "    Emp ID Name Prefix First Name  ...       Mother's Name  \\\n",
      "0   677509        Drs.       Lois  ...        Helen Walker   \n",
      "1   940761         Ms.     Brenda  ...       Judy Robinson   \n",
      "2   428945         Dr.        Joe  ...  Stephanie Robinson   \n",
      "3   408351        Drs.      Diane  ...      Michelle Evans   \n",
      "4   193819         Mr.   Benjamin  ...   Elizabeth Russell   \n",
      "..     ...         ...        ...  ...                 ...   \n",
      "95  639892         Mr.       Jose  ...           Anna Hill   \n",
      "96  704709         Dr.     Harold  ...       Pamela Nelson   \n",
      "97  461593         Ms.     Nicole  ...          Julia Ward   \n",
      "98  392491        Mrs.    Theresa  ...   Jacqueline Murphy   \n",
      "99  495141        Drs.      Tammy  ...        Brenda Young   \n",
      "\n",
      "   Mother's Maiden Name  Salary  \n",
      "0                 Lewis  168251  \n",
      "1                 Perry   51063  \n",
      "2                Taylor   50155  \n",
      "3                 Allen  180294  \n",
      "4                Nelson  117642  \n",
      "..                  ...     ...  \n",
      "95                Hayes  129774  \n",
      "96                Smith  156194  \n",
      "97                  Lee   95673  \n",
      "98             Peterson   51015  \n",
      "99             Robinson   93650  \n",
      "\n",
      "[100 rows x 11 columns]\n"
     ]
    }
   ],
   "source": [
    "import pandas as pd\n",
    "pd.set_option('display.max_columns',6)\n",
    "print(\"Original data:\\n\")\n",
    "df=pd.read_excel(r\"D:\\python code\\ManickManoj\\emp.xlsx\")\n",
    "print(df)"
   ]
  },
  {
   "cell_type": "code",
   "execution_count": 4,
   "id": "46b869a9",
   "metadata": {},
   "outputs": [
    {
     "name": "stdout",
     "output_type": "stream",
     "text": [
      "\n",
      " Replace value:\n",
      "    Emp ID Name Prefix First Name  ...       Mother's Name  \\\n",
      "0   677509        Drs.       Lois  ...        Helen Walker   \n",
      "1   940761         Ms.     Brenda  ...       Judy Robinson   \n",
      "2   428945         Dr.        Joe  ...  Stephanie Robinson   \n",
      "3   408351        Drs.      Diane  ...      Michelle Evans   \n",
      "4   193819         Mr.   Benjamin  ...   Elizabeth Russell   \n",
      "..     ...         ...        ...  ...                 ...   \n",
      "95  639892         Mr.       Jose  ...           Anna Hill   \n",
      "96  704709         Dr.     Harold  ...       Pamela Nelson   \n",
      "97  461593         Ms.     Nicole  ...          Julia Ward   \n",
      "98  392491        Mrs.    Theresa  ...   Jacqueline Murphy   \n",
      "99  495141        Drs.      Tammy  ...        Brenda Young   \n",
      "\n",
      "   Mother's Maiden Name  Salary  \n",
      "0                 Lewis  168251  \n",
      "1                 Perry   51063  \n",
      "2                Taylor   50155  \n",
      "3                 Allen  180294  \n",
      "4                Nelson  117642  \n",
      "..                  ...     ...  \n",
      "95                Hayes  129774  \n",
      "96                Smith  156194  \n",
      "97                  Lee   95673  \n",
      "98             Peterson   51015  \n",
      "99             Robinson   93650  \n",
      "\n",
      "[100 rows x 11 columns]\n",
      "\n",
      " Updated list \n",
      "\n"
     ]
    },
    {
     "name": "stderr",
     "output_type": "stream",
     "text": [
      "C:\\Users\\Manick\\AppData\\Local\\Temp\\ipykernel_21756\\2931565024.py:4: FutureWarning: DataFrame.fillna with 'method' is deprecated and will raise in a future version. Use obj.ffill() or obj.bfill() instead.\n",
      "  k=df.fillna(method='pad')\n"
     ]
    }
   ],
   "source": [
    "f=df['First Name'].str.strip()\n",
    "f.to_excel(r\"D:\\python code\\ManickManoj\\emp.xlsx\")\n",
    "print(\"\\n Replace value:\")\n",
    "k=df.fillna(method='pad')\n",
    "print(k)\n",
    "print(\"\\n Updated list \\n\")\n",
    "k.to_excel(r\"D:\\python code\\ManickManoj\\emp.xlsx\")"
   ]
  },
  {
   "cell_type": "code",
   "execution_count": 5,
   "id": "552fa26d",
   "metadata": {},
   "outputs": [
    {
     "name": "stdout",
     "output_type": "stream",
     "text": [
      "\n",
      " Drop one Particluar column and its values:\n",
      "\n",
      "    Emp ID Name Prefix First Name  ...     Father's Name Mother's Maiden Name  \\\n",
      "0   677509        Drs.       Lois  ...     Donald Walker                Lewis   \n",
      "1   940761         Ms.     Brenda  ...  Raymond Robinson                Perry   \n",
      "2   428945         Dr.        Joe  ...    Scott Robinson               Taylor   \n",
      "3   408351        Drs.      Diane  ...       Jason Evans                Allen   \n",
      "4   193819         Mr.   Benjamin  ...   Gregory Russell               Nelson   \n",
      "..     ...         ...        ...  ...               ...                  ...   \n",
      "95  639892         Mr.       Jose  ...       Carlos Hill                Hayes   \n",
      "96  704709         Dr.     Harold  ...    Richard Nelson                Smith   \n",
      "97  461593         Ms.     Nicole  ...        Ralph Ward                  Lee   \n",
      "98  392491        Mrs.    Theresa  ...     George Murphy             Peterson   \n",
      "99  495141        Drs.      Tammy  ...      Andrew Young             Robinson   \n",
      "\n",
      "    Salary  \n",
      "0   168251  \n",
      "1    51063  \n",
      "2    50155  \n",
      "3   180294  \n",
      "4   117642  \n",
      "..     ...  \n",
      "95  129774  \n",
      "96  156194  \n",
      "97   95673  \n",
      "98   51015  \n",
      "99   93650  \n",
      "\n",
      "[100 rows x 10 columns]\n",
      "Updated list \n",
      "\n"
     ]
    }
   ],
   "source": [
    "print(\"\\n Drop one Particluar column and its values:\\n\")\n",
    "k.drop([\"Mother's Name\"],axis=1,inplace=True)\n",
    "print(k)\n",
    "print(\"Updated list \\n\")\n",
    "k.to_excel(r\"D:\\python code\\ManickManoj\\emp.xlsx\")"
   ]
  },
  {
   "cell_type": "code",
   "execution_count": null,
   "id": "9f31a3b6",
   "metadata": {},
   "outputs": [],
   "source": []
  }
 ],
 "metadata": {
  "kernelspec": {
   "display_name": "Python 3 (ipykernel)",
   "language": "python",
   "name": "python3"
  },
  "language_info": {
   "codemirror_mode": {
    "name": "ipython",
    "version": 3
   },
   "file_extension": ".py",
   "mimetype": "text/x-python",
   "name": "python",
   "nbconvert_exporter": "python",
   "pygments_lexer": "ipython3",
   "version": "3.12.4"
  }
 },
 "nbformat": 4,
 "nbformat_minor": 5
}
