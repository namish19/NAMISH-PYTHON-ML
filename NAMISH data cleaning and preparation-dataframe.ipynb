{
 "cells": [
  {
   "cell_type": "code",
   "execution_count": 1,
   "id": "e04fb317",
   "metadata": {
    "scrolled": true
   },
   "outputs": [
    {
     "name": "stdout",
     "output_type": "stream",
     "text": [
      "original DataFrame with NaN\n",
      "         one       two     three\n",
      "a  1.657782  2.996171  0.339280\n",
      "b       NaN       NaN       NaN\n",
      "c -0.486868 -0.226772  0.328956\n",
      "d -0.177699  1.054596  0.220064\n",
      "e       NaN       NaN       NaN\n",
      "f  1.059145  1.243245  0.907689\n",
      "\n",
      "\n",
      "Dropped DataFrame \n",
      "         one       two     three\n",
      "a  1.657782  2.996171  0.339280\n",
      "c -0.486868 -0.226772  0.328956\n",
      "d -0.177699  1.054596  0.220064\n",
      "f  1.059145  1.243245  0.907689\n",
      "\n",
      "\n"
     ]
    }
   ],
   "source": [
    "import pandas as pd\n",
    "import numpy as np\n",
    "df=pd.DataFrame(np.random.randn(4,3),index=['a','c','d','f'],columns=['one','two','three'])\n",
    "df=df.reindex(['a','b','c','d','e','f'])\n",
    "print(\"original DataFrame with NaN\\n\",df)\n",
    "print(\"\\n\")\n",
    "print(\"Dropped DataFrame \\n\",df.dropna())\n",
    "print(\"\\n\")"
   ]
  },
  {
   "cell_type": "code",
   "execution_count": 2,
   "id": "df366a8c",
   "metadata": {},
   "outputs": [
    {
     "name": "stdout",
     "output_type": "stream",
     "text": [
      "original DataFrame :\n",
      "         one       two     three\n",
      "a  0.131047  0.668370  0.087044\n",
      "b       NaN       NaN       NaN\n",
      "c -1.490373  0.591301 -0.657853\n",
      "\n",
      "\n",
      "NaN replaced with '0'\n",
      "         one       two     three\n",
      "a  0.131047  0.668370  0.087044\n",
      "b  0.000000  0.000000  0.000000\n",
      "c -1.490373  0.591301 -0.657853\n",
      "\n",
      "\n"
     ]
    }
   ],
   "source": [
    "import pandas as pd\n",
    "import numpy as np\n",
    "df=pd.DataFrame(np.random.randn(4,3),index=['a','c','d','f'],columns=['one','two','three'])\n",
    "df=df.reindex(['a','b','c'])\n",
    "print(\"original DataFrame :\\n\",df)\n",
    "print(\"\\n\")\n",
    "print(\"NaN replaced with '0'\\n\",df.fillna(0))\n",
    "print(\"\\n\")"
   ]
  },
  {
   "cell_type": "code",
   "execution_count": 3,
   "id": "6af4fabd",
   "metadata": {},
   "outputs": [
    {
     "name": "stdout",
     "output_type": "stream",
     "text": [
      "original DataFrame:\n",
      "    one  two\n",
      "0   10   60\n",
      "1   20   70\n",
      "2   80   80\n",
      "3   40    0\n",
      "4   50   10\n",
      "\n",
      " DataFrame with replaced values:\n",
      "\n",
      "   one  two\n",
      "0    5   60\n",
      "1   20   70\n",
      "2    3    3\n",
      "3   40    0\n",
      "4   50    5\n"
     ]
    }
   ],
   "source": [
    "df=pd.DataFrame({'one':[10,20,80,40,50],'two':[60,70,80,0,10]})\n",
    "print(\"original DataFrame:\\n\",df)\n",
    "print(\"\\n DataFrame with replaced values:\\n\")\n",
    "print(df.replace({10:5,80:3}))"
   ]
  },
  {
   "cell_type": "code",
   "execution_count": 4,
   "id": "84603c96",
   "metadata": {},
   "outputs": [
    {
     "name": "stdout",
     "output_type": "stream",
     "text": [
      "original DataFrame:\n",
      "         one       two     three\n",
      "a  0.659347  0.653030  1.065224\n",
      "b       NaN       NaN       NaN\n",
      "c -0.050484  1.096375  0.087136\n",
      "d -0.645773 -0.622301 -0.214238\n",
      "e       NaN       NaN       NaN\n",
      "f -1.085305 -1.179524  0.101751\n",
      "\n",
      " NaN.with True fill:\n",
      "\n",
      "a    False\n",
      "b     True\n",
      "c    False\n",
      "d    False\n",
      "e     True\n",
      "f    False\n",
      "Name: one, dtype: bool\n"
     ]
    }
   ],
   "source": [
    "df=pd.DataFrame(np.random.randn(4,3),index=['a','c','d','f'],columns=['one','two','three'])\n",
    "df=df.reindex(['a','b','c','d','e','f'])\n",
    "print(\"original DataFrame:\\n\",df)\n",
    "print(\"\\n NaN.with True fill:\\n\")\n",
    "print(df['one'].isnull())"
   ]
  },
  {
   "cell_type": "code",
   "execution_count": 5,
   "id": "bf08a2fa",
   "metadata": {},
   "outputs": [
    {
     "name": "stdout",
     "output_type": "stream",
     "text": [
      "\n",
      " NaN-filled with Bachground values:\n",
      "\n",
      "        one       two     three\n",
      "a  0.659347  0.653030  1.065224\n",
      "b -0.050484  1.096375  0.087136\n",
      "c -0.050484  1.096375  0.087136\n",
      "d -0.645773 -0.622301 -0.214238\n",
      "e -1.085305 -1.179524  0.101751\n",
      "f -1.085305 -1.179524  0.101751\n"
     ]
    },
    {
     "name": "stderr",
     "output_type": "stream",
     "text": [
      "C:\\Users\\Manick\\AppData\\Local\\Temp\\ipykernel_21608\\3502494784.py:2: FutureWarning: DataFrame.fillna with 'method' is deprecated and will raise in a future version. Use obj.ffill() or obj.bfill() instead.\n",
      "  print(df.fillna(method='bfill'))\n"
     ]
    }
   ],
   "source": [
    "print(\"\\n NaN-filled with Bachground values:\\n\")\n",
    "print(df.fillna(method='bfill'))"
   ]
  },
  {
   "cell_type": "code",
   "execution_count": 6,
   "id": "888c6102",
   "metadata": {},
   "outputs": [
    {
     "name": "stdout",
     "output_type": "stream",
     "text": [
      "        one       two     three\n",
      "a  0.659347  0.653030  1.065224\n",
      "b -0.050484  1.096375  0.087136\n",
      "c -0.050484  1.096375  0.087136\n",
      "d -0.645773 -0.622301 -0.214238\n",
      "e -1.085305 -1.179524  0.101751\n",
      "f -1.085305 -1.179524  0.101751\n",
      "        one       two     three\n",
      "a  0.659347  0.653030  1.065224\n",
      "b  0.659347  0.653030  1.065224\n",
      "c -0.050484  1.096375  0.087136\n",
      "d -0.645773 -0.622301 -0.214238\n",
      "e -0.645773 -0.622301 -0.214238\n",
      "f -1.085305 -1.179524  0.101751\n"
     ]
    }
   ],
   "source": [
    "print(df.bfill())\n",
    "print(df.ffill())"
   ]
  },
  {
   "cell_type": "code",
   "execution_count": null,
   "id": "88085ab2",
   "metadata": {},
   "outputs": [],
   "source": []
  }
 ],
 "metadata": {
  "kernelspec": {
   "display_name": "Python 3 (ipykernel)",
   "language": "python",
   "name": "python3"
  },
  "language_info": {
   "codemirror_mode": {
    "name": "ipython",
    "version": 3
   },
   "file_extension": ".py",
   "mimetype": "text/x-python",
   "name": "python",
   "nbconvert_exporter": "python",
   "pygments_lexer": "ipython3",
   "version": "3.12.4"
  }
 },
 "nbformat": 4,
 "nbformat_minor": 5
}
