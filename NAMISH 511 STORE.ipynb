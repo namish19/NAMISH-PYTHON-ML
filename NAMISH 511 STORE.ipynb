{
 "cells": [
  {
   "cell_type": "code",
   "execution_count": 1,
   "id": "6975be76",
   "metadata": {},
   "outputs": [
    {
     "name": "stdout",
     "output_type": "stream",
     "text": [
      "       a  b  c\n",
      "One    1  2  3\n",
      "two    4  5  6\n",
      "three  7  8  9\n"
     ]
    }
   ],
   "source": [
    "import pandas as pd \n",
    "df=pd.DataFrame([[1,2,3],[4,5,6],[7,8,9]],index=['One','two','three'],columns=['a','b','c'])\n",
    "print(df)"
   ]
  },
  {
   "cell_type": "code",
   "execution_count": 2,
   "id": "8108b1e8",
   "metadata": {},
   "outputs": [],
   "source": [
    "df.to_excel(r\"D:\\python code\\ManickManoj\\book1.xlsx\")\n",
    "df.to_excel(r\"D:\\python code\\ManickManoj\\book2.xlsx\")"
   ]
  },
  {
   "cell_type": "code",
   "execution_count": 3,
   "id": "9339e85c",
   "metadata": {},
   "outputs": [],
   "source": [
    "df=pd.DataFrame([[10,20,30],[40,50,60],[70,80,90]],index=['four','five','six'],columns=['x','y','z'])\n",
    "df.to_excel(r\"D:\\python code\\ManickManoj\\book1.xlsx\")\n",
    "df=pd.DataFrame([[6,7],[1,2]],index=['a','b'],columns=['x','y'])\n",
    "df.to_excel(r\"D:\\python code\\ManickManoj\\book2.xlsx\")\n",
    "x=pd.read_excel(r\"D:\\python code\\ManickManoj\\book1.xlsx\")\n",
    "y=pd.read_excel(r\"D:\\python code\\ManickManoj\\book2.xlsx\")\n",
    "z=pd.concat([x,y])\n",
    "z.to_excel(r\"D:\\python code\\ManickManoj\\book2.xlsx\")"
   ]
  },
  {
   "cell_type": "code",
   "execution_count": 4,
   "id": "c12b60ad",
   "metadata": {},
   "outputs": [
    {
     "name": "stdout",
     "output_type": "stream",
     "text": [
      "  Unnamed: 0   x   y     z\n",
      "1          b   1   2   NaN\n",
      "0          a   6   7   NaN\n",
      "0       four  10  20  30.0\n",
      "1       five  40  50  60.0\n",
      "2        six  70  80  90.0\n",
      "  Unnamed: 0   x   y     z\n",
      "1          b   1   2   NaN\n",
      "0          a   6   7   NaN\n",
      "0       four  10  20  30.0\n",
      "1       five  40  50  60.0\n",
      "2        six  70  80  90.0\n"
     ]
    }
   ],
   "source": [
    "df=z.sort_values([\"x\"])\n",
    "print(df)\n",
    "df.to_excel(r\"D:\\python code\\ManickManoj\\book2.xlsx\")\n",
    "df=z.sort_values([\"y\"])\n",
    "print(df)\n",
    "df.to_excel(r\"D:\\python code\\ManickManoj\\book2.xlsx\")"
   ]
  },
  {
   "cell_type": "code",
   "execution_count": 5,
   "id": "5ae80173",
   "metadata": {},
   "outputs": [
    {
     "name": "stdout",
     "output_type": "stream",
     "text": [
      "   Unnamed: 0.1 Unnamed: 0   x   y     z\n",
      "0             1          b   1   2   NaN\n",
      "1             0          a   6   7   NaN\n",
      "2             0       four  10  20  30.0\n",
      "3             1       five  40  50  60.0\n",
      "4             2        six  70  80  90.0\n",
      "['Unnamed: 0.1', 'Unnamed: 0', 'x', 'y', 'z']\n",
      "5\n"
     ]
    }
   ],
   "source": [
    "import pandas as pd\n",
    "df=pd.read_excel(r\"D:\\python code\\ManickManoj\\book2.xlsx\")\n",
    "print(df)\n",
    "print(list(df))\n",
    "print(format(len(df)))"
   ]
  },
  {
   "cell_type": "code",
   "execution_count": null,
   "id": "755b0bea",
   "metadata": {},
   "outputs": [],
   "source": []
  }
 ],
 "metadata": {
  "kernelspec": {
   "display_name": "Python 3 (ipykernel)",
   "language": "python",
   "name": "python3"
  },
  "language_info": {
   "codemirror_mode": {
    "name": "ipython",
    "version": 3
   },
   "file_extension": ".py",
   "mimetype": "text/x-python",
   "name": "python",
   "nbconvert_exporter": "python",
   "pygments_lexer": "ipython3",
   "version": "3.12.4"
  }
 },
 "nbformat": 4,
 "nbformat_minor": 5
}
